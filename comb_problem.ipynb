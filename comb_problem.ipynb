{
 "cells": [
  {
   "cell_type": "markdown",
   "id": "74fc4828-a5c8-4ab4-b3e0-956f36b07987",
   "metadata": {},
   "source": [
    "# PROBLEM:\n",
    "# From a group of 10 people, 4 are selected to form a committee. \n",
    "# What is the probability that exactly 2 women will be on the committee if there are 6 women in the group?"
   ]
  },
  {
   "cell_type": "markdown",
   "id": "13a34f8c-6679-497d-9f06-ab3c4f94e68e",
   "metadata": {},
   "source": [
    "**Solution:**"
   ]
  },
  {
   "cell_type": "code",
   "execution_count": 15,
   "id": "7f928cbf-b6f1-4210-bea4-1a903dd3b0d7",
   "metadata": {},
   "outputs": [
    {
     "name": "stdout",
     "output_type": "stream",
     "text": [
      "210\n"
     ]
    }
   ],
   "source": [
    "import math\n",
    "\n",
    "everybody = 10\n",
    "women = 6\n",
    "men = 4\n",
    "\n",
    "selected = 4\n",
    "\n",
    "total_ways = math.comb(everybody, selected)     # 10! / 4!(10-4)!\n",
    "print(total_ways)"
   ]
  },
  {
   "cell_type": "markdown",
   "id": "e2c5a906-772b-444c-90a9-d076396c039f",
   "metadata": {},
   "source": [
    "-----"
   ]
  },
  {
   "cell_type": "markdown",
   "id": "5cdde931-a540-41fc-be22-a0de16930f2f",
   "metadata": {},
   "source": [
    "**\"EXACTLY 2 women\"** (Out of the 4 selected = 2 are women, which means the remaining 2 are men)"
   ]
  },
  {
   "cell_type": "code",
   "execution_count": 19,
   "id": "2ffee868-3820-43a9-9127-0050ec134a83",
   "metadata": {},
   "outputs": [
    {
     "name": "stdout",
     "output_type": "stream",
     "text": [
      "90\n"
     ]
    }
   ],
   "source": [
    "exactly_two_women = math.comb(women, 2)*math.comb(men, 2)    \n",
    "print(exactly_two_women)"
   ]
  },
  {
   "cell_type": "code",
   "execution_count": 23,
   "id": "90347046-8050-428b-ad12-383d87a010b7",
   "metadata": {},
   "outputs": [],
   "source": [
    "answer = exactly_two_women/ total_ways    # 90/210 = 3/7"
   ]
  },
  {
   "cell_type": "code",
   "execution_count": 25,
   "id": "67c0fb75-fb0b-4615-a8b2-c9132ab2b6fb",
   "metadata": {},
   "outputs": [
    {
     "name": "stdout",
     "output_type": "stream",
     "text": [
      "0.43\n"
     ]
    }
   ],
   "source": [
    "print(\"{:.2f}\".format(answer))           # 90/210 = 3/7"
   ]
  },
  {
   "cell_type": "markdown",
   "id": "f6493fa4-833c-442b-9d0f-e3ee00b66123",
   "metadata": {},
   "source": [
    "--------------"
   ]
  },
  {
   "cell_type": "markdown",
   "id": "3f322963-1230-4a1c-8fbf-6e72c95ee951",
   "metadata": {},
   "source": [
    "--------"
   ]
  },
  {
   "cell_type": "markdown",
   "id": "d2c92f99-90f0-4ad9-b6f3-34bc37e64faf",
   "metadata": {},
   "source": [
    "# PASCAL`S TRIANGLE"
   ]
  },
  {
   "cell_type": "code",
   "execution_count": 29,
   "id": "c1f624a6-a2b5-4fc5-88e8-9306c0744b18",
   "metadata": {},
   "outputs": [],
   "source": [
    "def Pascals_Triangle():\n",
    "    triangle = [[1]]  # First row of triangle\n",
    "    for i in range(1, 11):\n",
    "        row = [1]  # Start with 1\n",
    "        for j in range(1, i):\n",
    "            row.append(triangle[i-1][j-1] + triangle[i-1][j])\n",
    "        row.append(1)  # End with 1\n",
    "        triangle.append(row) \n",
    "    return triangle"
   ]
  },
  {
   "cell_type": "code",
   "execution_count": 31,
   "id": "2e224056-392c-4ec5-a8bc-ab04c241c98f",
   "metadata": {},
   "outputs": [
    {
     "data": {
      "text/plain": [
       "[[1],\n",
       " [1, 1],\n",
       " [1, 2, 1],\n",
       " [1, 3, 3, 1],\n",
       " [1, 4, 6, 4, 1],\n",
       " [1, 5, 10, 10, 5, 1],\n",
       " [1, 6, 15, 20, 15, 6, 1],\n",
       " [1, 7, 21, 35, 35, 21, 7, 1],\n",
       " [1, 8, 28, 56, 70, 56, 28, 8, 1],\n",
       " [1, 9, 36, 84, 126, 126, 84, 36, 9, 1],\n",
       " [1, 10, 45, 120, 210, 252, 210, 120, 45, 10, 1]]"
      ]
     },
     "execution_count": 31,
     "metadata": {},
     "output_type": "execute_result"
    }
   ],
   "source": [
    "Pascals_Triangle()"
   ]
  },
  {
   "cell_type": "code",
   "execution_count": 33,
   "id": "5aba1073-946f-40c8-b043-81fb6bc8cad5",
   "metadata": {},
   "outputs": [],
   "source": [
    "pascals_triangle = Pascals_Triangle()"
   ]
  },
  {
   "cell_type": "markdown",
   "id": "d8e1aa47-1608-4bca-aabc-3f9bb511cdd6",
   "metadata": {},
   "source": [
    "------"
   ]
  },
  {
   "cell_type": "code",
   "execution_count": 35,
   "id": "de00618b-e26a-407c-89fc-de2a11d14dbf",
   "metadata": {},
   "outputs": [
    {
     "data": {
      "text/plain": [
       "[1, 10, 45, 120, 210, 252, 210, 120, 45, 10, 1]"
      ]
     },
     "execution_count": 35,
     "metadata": {},
     "output_type": "execute_result"
    }
   ],
   "source": [
    "pascals_triangle[10]"
   ]
  },
  {
   "cell_type": "markdown",
   "id": "91817ca2-a705-4547-b499-af36f44395e0",
   "metadata": {},
   "source": [
    "**total_ways:**"
   ]
  },
  {
   "cell_type": "code",
   "execution_count": 10,
   "id": "045264fe-f9ca-48c1-aa3e-fed5a27deae1",
   "metadata": {},
   "outputs": [
    {
     "data": {
      "text/plain": [
       "210"
      ]
     },
     "execution_count": 10,
     "metadata": {},
     "output_type": "execute_result"
    }
   ],
   "source": [
    "pascals_triangle[10][4]     # 10! = 4!(10-6)! "
   ]
  },
  {
   "cell_type": "markdown",
   "id": "34d3fef4-b40e-4e63-a927-3134e9b85366",
   "metadata": {},
   "source": [
    "**2 women from 6 women:**"
   ]
  },
  {
   "cell_type": "code",
   "execution_count": 12,
   "id": "a7abae12-9ea5-4166-b559-87458cc31051",
   "metadata": {},
   "outputs": [
    {
     "data": {
      "text/plain": [
       "15"
      ]
     },
     "execution_count": 12,
     "metadata": {},
     "output_type": "execute_result"
    }
   ],
   "source": [
    "pascals_triangle[6][2]       # 6! = 2!(6-2)!         math.comb(women, 2)"
   ]
  },
  {
   "cell_type": "markdown",
   "id": "f20367bc-171b-4cc2-ab67-7a02b16d570c",
   "metadata": {},
   "source": [
    "**2 men from 4 men:**"
   ]
  },
  {
   "cell_type": "code",
   "execution_count": 42,
   "id": "449fe878-1039-45df-a40b-961d3a902c3a",
   "metadata": {},
   "outputs": [
    {
     "data": {
      "text/plain": [
       "6"
      ]
     },
     "execution_count": 42,
     "metadata": {},
     "output_type": "execute_result"
    }
   ],
   "source": [
    "pascals_triangle[4][2]       # 4! = 2!(4-2)!         math.comb(men, 2)"
   ]
  },
  {
   "cell_type": "markdown",
   "id": "5cd5a9c6-dcac-4a79-89b2-c311719e80db",
   "metadata": {},
   "source": [
    "**2 women AND 2 men:**"
   ]
  },
  {
   "cell_type": "code",
   "execution_count": 16,
   "id": "471a72df-b6ed-4f44-9b84-f390a87e52c6",
   "metadata": {},
   "outputs": [
    {
     "name": "stdout",
     "output_type": "stream",
     "text": [
      "90\n"
     ]
    }
   ],
   "source": [
    "exactly_two_women = pascals_triangle[6][2]*pascals_triangle[4][2]       \n",
    "print(exactly_two_women)"
   ]
  },
  {
   "cell_type": "markdown",
   "id": "7e06ff06-69bd-43b4-9fbb-b76277e6fe6c",
   "metadata": {},
   "source": [
    "**ANSWER:**"
   ]
  },
  {
   "cell_type": "code",
   "execution_count": 57,
   "id": "603fccbb-5e56-4b69-897a-9b98623d057a",
   "metadata": {},
   "outputs": [],
   "source": [
    "answer = pascals_triangle[6][2]*pascals_triangle[4][2]/pascals_triangle[10][4]        # 90 / 210 = 3 /7"
   ]
  },
  {
   "cell_type": "code",
   "execution_count": 59,
   "id": "7e3f5271-a42f-485a-b8ec-d7d578771cad",
   "metadata": {},
   "outputs": [
    {
     "name": "stdout",
     "output_type": "stream",
     "text": [
      "0.42857142857142855\n"
     ]
    }
   ],
   "source": [
    "print(answer)"
   ]
  },
  {
   "cell_type": "code",
   "execution_count": null,
   "id": "08ee569a-466f-4e92-b831-b53e08661ac8",
   "metadata": {},
   "outputs": [],
   "source": []
  }
 ],
 "metadata": {
  "kernelspec": {
   "display_name": "Python 3 (ipykernel)",
   "language": "python",
   "name": "python3"
  },
  "language_info": {
   "codemirror_mode": {
    "name": "ipython",
    "version": 3
   },
   "file_extension": ".py",
   "mimetype": "text/x-python",
   "name": "python",
   "nbconvert_exporter": "python",
   "pygments_lexer": "ipython3",
   "version": "3.12.7"
  }
 },
 "nbformat": 4,
 "nbformat_minor": 5
}
