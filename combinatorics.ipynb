{
 "cells": [
  {
   "cell_type": "markdown",
   "id": "495b965c-f94c-4765-a40f-d14898fab9da",
   "metadata": {},
   "source": [
    "# PASCAL`S TRIANGLE"
   ]
  },
  {
   "cell_type": "code",
   "execution_count": 267,
   "id": "bf21e3ca-eb68-41c2-ad18-1fc055fd5c6b",
   "metadata": {},
   "outputs": [],
   "source": [
    "def Pascals_Triangle():\n",
    "    triangle = [[1]] # first row of the triangle\n",
    "    for i in range(1, 10):\n",
    "        row = [1]\n",
    "        for j in range(1, i):\n",
    "            row.append(triangle[i - 1][j - 1] + triangle[i - 1][j])\n",
    "        row.append(1) # add 1 at the end of the row\n",
    "        triangle.append(row) # append current row\n",
    "    return triangle"
   ]
  },
  {
   "cell_type": "code",
   "execution_count": 269,
   "id": "a2999c36-5346-4b2e-80d3-c48aac78d49b",
   "metadata": {},
   "outputs": [
    {
     "data": {
      "text/plain": [
       "[[1],\n",
       " [1, 1],\n",
       " [1, 2, 1],\n",
       " [1, 3, 3, 1],\n",
       " [1, 4, 6, 4, 1],\n",
       " [1, 5, 10, 10, 5, 1],\n",
       " [1, 6, 15, 20, 15, 6, 1],\n",
       " [1, 7, 21, 35, 35, 21, 7, 1],\n",
       " [1, 8, 28, 56, 70, 56, 28, 8, 1],\n",
       " [1, 9, 36, 84, 126, 126, 84, 36, 9, 1]]"
      ]
     },
     "execution_count": 269,
     "metadata": {},
     "output_type": "execute_result"
    }
   ],
   "source": [
    "Pascals_Triangle()"
   ]
  },
  {
   "cell_type": "code",
   "execution_count": 271,
   "id": "32fe596b-364b-4678-b2da-ec371b754598",
   "metadata": {},
   "outputs": [],
   "source": [
    "def Centralize(triangle):\n",
    "    for row in triangle:\n",
    "        print(\" \".join(map(str, row)).center(40))"
   ]
  },
  {
   "cell_type": "code",
   "execution_count": 273,
   "id": "41651a57-834e-47f9-9618-5c9ddceeb5e3",
   "metadata": {},
   "outputs": [
    {
     "name": "stdout",
     "output_type": "stream",
     "text": [
      "                   1                    \n",
      "                  1 1                   \n",
      "                 1 2 1                  \n",
      "                1 3 3 1                 \n",
      "               1 4 6 4 1                \n",
      "             1 5 10 10 5 1              \n",
      "            1 6 15 20 15 6 1            \n",
      "          1 7 21 35 35 21 7 1           \n",
      "         1 8 28 56 70 56 28 8 1         \n",
      "      1 9 36 84 126 126 84 36 9 1       \n"
     ]
    }
   ],
   "source": [
    "Centralize(Pascals_Triangle())\n"
   ]
  },
  {
   "cell_type": "markdown",
   "id": "77b15b79-c4a4-44bb-af6c-8d366d1a2d63",
   "metadata": {},
   "source": [
    "---------------"
   ]
  },
  {
   "cell_type": "markdown",
   "id": "552456b9-0f52-4f42-8cca-abc39fc37406",
   "metadata": {},
   "source": [
    "# BINOMIAL EXPANSION"
   ]
  },
  {
   "cell_type": "code",
   "execution_count": 277,
   "id": "0b4f27e1-d67f-4ad2-85b9-460e4104eda6",
   "metadata": {},
   "outputs": [
    {
     "data": {
      "text/plain": [
       "120"
      ]
     },
     "execution_count": 277,
     "metadata": {},
     "output_type": "execute_result"
    }
   ],
   "source": [
    "import math\n",
    "math.factorial(5)"
   ]
  },
  {
   "cell_type": "code",
   "execution_count": 279,
   "id": "2adab19e-c504-433f-a228-64fcd788c0a1",
   "metadata": {},
   "outputs": [
    {
     "data": {
      "text/plain": [
       "10"
      ]
     },
     "execution_count": 279,
     "metadata": {},
     "output_type": "execute_result"
    }
   ],
   "source": [
    "math.comb(5, 2)"
   ]
  },
  {
   "cell_type": "code",
   "execution_count": 281,
   "id": "7875baf2-e8a6-4d28-911c-152d965938fc",
   "metadata": {},
   "outputs": [
    {
     "data": {
      "text/plain": [
       "126"
      ]
     },
     "execution_count": 281,
     "metadata": {},
     "output_type": "execute_result"
    }
   ],
   "source": [
    "math.comb(9, 4)"
   ]
  },
  {
   "cell_type": "code",
   "execution_count": 283,
   "id": "75da573a-060a-4bda-af95-be1aa51b7ecd",
   "metadata": {},
   "outputs": [],
   "source": [
    "def binomial_coefficient(n, k):\n",
    "    return math.factorial(n) // (math.factorial(k) * math.factorial(n - k))  # The function behaves the same as math.comb."
   ]
  },
  {
   "cell_type": "markdown",
   "id": "4963bc1b-c69e-4633-8627-ac807ff48531",
   "metadata": {},
   "source": [
    "---------"
   ]
  },
  {
   "cell_type": "markdown",
   "id": "80b5877c-3bf9-487a-a64b-51db2c32e28b",
   "metadata": {},
   "source": [
    "**Binomial Expansion:**"
   ]
  },
  {
   "cell_type": "code",
   "execution_count": 287,
   "id": "8f6a44c4-ae82-40ba-8161-0e4970ee26c0",
   "metadata": {},
   "outputs": [],
   "source": [
    "def binomial_expansion(n, pascals_triangle):\n",
    "    coefficient = pascals_triangle[n]\n",
    "    expansion = []\n",
    "    for k in range(n + 1):\n",
    "        equation = f\"{coefficient[k]}*x^{n-k}*y^{k}\"\n",
    "        expansion.append(equation)\n",
    "    return \" + \".join(expansion)"
   ]
  },
  {
   "cell_type": "code",
   "execution_count": 289,
   "id": "bdbf6652-bf24-48cf-b37f-b90ec4373223",
   "metadata": {},
   "outputs": [],
   "source": [
    "pascals_triangle = Pascals_Triangle()"
   ]
  },
  {
   "cell_type": "code",
   "execution_count": 301,
   "id": "c8e8e5d0-8c2f-4183-ad5e-778e05ee1049",
   "metadata": {},
   "outputs": [],
   "source": [
    "n = 7"
   ]
  },
  {
   "cell_type": "code",
   "execution_count": 303,
   "id": "6e7fb5d0-8c09-48a8-b2a6-044e38c2764a",
   "metadata": {},
   "outputs": [],
   "source": [
    "expansion = binomial_expansion(n, pascals_triangle)"
   ]
  },
  {
   "cell_type": "code",
   "execution_count": 305,
   "id": "7e6c34b3-2837-4de0-bbe6-aa9906f8b394",
   "metadata": {},
   "outputs": [
    {
     "name": "stdout",
     "output_type": "stream",
     "text": [
      "Binomial expansion of (x + y)^7 is: \n",
      " 1*x^7*y^0 + 7*x^6*y^1 + 21*x^5*y^2 + 35*x^4*y^3 + 35*x^3*y^4 + 21*x^2*y^5 + 7*x^1*y^6 + 1*x^0*y^7\n"
     ]
    }
   ],
   "source": [
    "print(f\"Binomial expansion of (x + y)^{n} is: \\n {expansion}\")"
   ]
  },
  {
   "cell_type": "code",
   "execution_count": null,
   "id": "c6dcf335-fc95-4529-9262-f90e2e4392a6",
   "metadata": {},
   "outputs": [],
   "source": []
  }
 ],
 "metadata": {
  "kernelspec": {
   "display_name": "Python 3 (ipykernel)",
   "language": "python",
   "name": "python3"
  },
  "language_info": {
   "codemirror_mode": {
    "name": "ipython",
    "version": 3
   },
   "file_extension": ".py",
   "mimetype": "text/x-python",
   "name": "python",
   "nbconvert_exporter": "python",
   "pygments_lexer": "ipython3",
   "version": "3.12.7"
  }
 },
 "nbformat": 4,
 "nbformat_minor": 5
}
